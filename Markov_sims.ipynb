{
 "cells": [
  {
   "cell_type": "code",
   "execution_count": 1,
   "metadata": {},
   "outputs": [],
   "source": [
    "import numpy as np\n",
    "import random as rm"
   ]
  },
  {
   "cell_type": "code",
   "execution_count": 2,
   "metadata": {},
   "outputs": [],
   "source": [
    "# The statespace\n",
    "states = [\"A\", \"T\", \"G\", \"C\"]\n",
    "# initial frequencies\n",
    "initFreq = [0.25, 0.25, 0.25, 0.25]\n",
    "# transition probabilities\n",
    "transitionDic = {\"A\": [0.25, 0.25, 0.25, 0.25], \n",
    "                 \"T\": [0.4, 0.4, 0.1, 0.1], \n",
    "                 \"G\": [0.25, 0.25, 0.25, 0.25],\n",
    "                 \"C\": [0.25, 0.25, 0.25, 0.25]}\n",
    "\n",
    "n = 150\n",
    "order = 1\n",
    "\n",
    "\n",
    "seq = [np.random.choice(a= states, p = initFreq)]\n",
    "\n",
    "for i in range(n - 1):\n",
    "    n = ''.join(seq[-order:])\n",
    "    prob = transitionDic[n]\n",
    "    seq.append(np.random.choice(a= states, p = prob))\n"
   ]
  },
  {
   "cell_type": "code",
   "execution_count": 4,
   "metadata": {},
   "outputs": [
    {
     "name": "stdout",
     "output_type": "stream",
     "text": [
      "150\n"
     ]
    }
   ],
   "source": [
    "print(len(seq))"
   ]
  },
  {
   "cell_type": "code",
   "execution_count": null,
   "metadata": {},
   "outputs": [],
   "source": [
    "# test probabilities sum to one\n",
    "# test are all permutations in dict\n",
    "# cases and controls\n",
    "# encoding?"
   ]
  }
 ],
 "metadata": {
  "kernelspec": {
   "display_name": "Python 3 (ipykernel)",
   "language": "python",
   "name": "python3"
  },
  "language_info": {
   "codemirror_mode": {
    "name": "ipython",
    "version": 3
   },
   "file_extension": ".py",
   "mimetype": "text/x-python",
   "name": "python",
   "nbconvert_exporter": "python",
   "pygments_lexer": "ipython3",
   "version": "3.10.13"
  }
 },
 "nbformat": 4,
 "nbformat_minor": 2
}
