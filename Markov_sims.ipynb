{
 "cells": [
  {
   "cell_type": "code",
   "execution_count": 1,
   "metadata": {},
   "outputs": [],
   "source": [
    "%reset -f\n",
    "import numpy as np\n",
    "#import random as rm\n",
    "import timeit\n",
    "import itertools\n",
    "%load_ext line_profiler\n",
    "from SequenceSim import experiments_markov_binary"
   ]
  },
  {
   "cell_type": "code",
   "execution_count": 2,
   "metadata": {},
   "outputs": [],
   "source": [
    "# does it work for a second order?\n",
    "# simulate some probabilities\n",
    "\n",
    "test_n = 50\n",
    "test_order = 3\n",
    "\n",
    "\n",
    "nucleotides = 'ATGC'\n",
    "\n",
    "file = \"data/MA0024.1.pfm\"\n",
    "\n",
    "# List with values that are transitioned to \n",
    "test_transition_states = [\"A\", \"T\", \"G\", \"C\"]\n",
    "\n",
    "order_nucleotides = [''.join(p) for p in itertools.product(nucleotides, repeat = test_order)]\n",
    "\n",
    "prob = np.repeat(1/len(order_nucleotides), len(order_nucleotides))\n",
    "test_init_freq = dict(zip(order_nucleotides, prob))\n",
    "\n",
    "#prob = [list(np.repeat(1/len(nucleotides), len(nucleotides))) for i in range(len(order_nucleotides))]\n",
    "#test_transition_dic = dict(zip(order_nucleotides, prob))\n",
    "\n",
    "\n",
    "prob = [list(np.random.uniform(low=1, high=2, size= len(test_transition_states))) for i in range(len(order_nucleotides))]\n",
    "prob = [i/sum(i) for i in prob]\n",
    "cases_transition_dic = dict(zip(order_nucleotides, prob))\n",
    "\n",
    "\n",
    "prob = [list(np.random.uniform(low=1, high=2, size= len(test_transition_states))) for i in range(len(order_nucleotides))]\n",
    "prob = [i/sum(i) for i in prob]\n",
    "controls_transition_dic = dict(zip(order_nucleotides, prob))\n",
    "\n",
    "\n",
    "cases_seq_parameters = {'init_freq': test_init_freq,\\\n",
    "                       'transition_dic': cases_transition_dic,\\\n",
    "                       'transition_states': test_transition_states,\\\n",
    "                       'n': test_n,\\\n",
    "                       'order': test_order}\n",
    "\n",
    "controls_seq_parameters = {'init_freq': test_init_freq,\\\n",
    "                       'transition_dic': controls_transition_dic,\\\n",
    "                       'transition_states': test_transition_states,\\\n",
    "                       'n': test_n,\\\n",
    "                       'order': test_order}\n"
   ]
  },
  {
   "cell_type": "code",
   "execution_count": 11,
   "metadata": {},
   "outputs": [],
   "source": [
    "#timeit.timeit('markov_simulations(test_seq_parameters, 10000)', globals = globals(), number = 1)\n",
    "#size = 100\n",
    "#X = markov_simulations(test_seq_parameters, size)\n",
    "#y = np.random.choice(a = [1, 0], p = [0.5, 0.5], size = size).reshape(size, 1)\n",
    "\n",
    "X, y = experiments_markov_binary(cases_seq_parameters, controls_seq_parameters, 500, 500, cases_motif_file = file, cases_index = [25, 30])\n",
    "\n",
    "# Import train_test_split function\n",
    "from sklearn.model_selection import train_test_split\n",
    "\n",
    "# Split dataset into training set and test set\n",
    "X_train, X_test, y_train, y_test = train_test_split(X, y, test_size=0.3,random_state=42)\n",
    "\n",
    "#print(np.array(X))"
   ]
  },
  {
   "cell_type": "code",
   "execution_count": 12,
   "metadata": {},
   "outputs": [],
   "source": [
    "#import keras\n",
    "#from keras.models import Sequential\n",
    "#from keras.layers import Dense, Flatten\n",
    "#from keras.layers import Conv1D, MaxPooling1D\n",
    "\n",
    "import keras.layers as kl\n",
    "from keras.models import Sequential"
   ]
  },
  {
   "cell_type": "code",
   "execution_count": 13,
   "metadata": {},
   "outputs": [
    {
     "name": "stdout",
     "output_type": "stream",
     "text": [
      "Model: \"sequential_2\"\n",
      "_________________________________________________________________\n",
      " Layer (type)                Output Shape              Param #   \n",
      "=================================================================\n",
      " conv1d_2 (Conv1D)           (None, 50, 20)            340       \n",
      "                                                                 \n",
      " max_pooling1d_2 (MaxPoolin  (None, 10, 20)            0         \n",
      " g1D)                                                            \n",
      "                                                                 \n",
      " flatten_2 (Flatten)         (None, 200)               0         \n",
      "                                                                 \n",
      " dense_2 (Dense)             (None, 1)                 201       \n",
      "                                                                 \n",
      "=================================================================\n",
      "Total params: 541 (2.11 KB)\n",
      "Trainable params: 541 (2.11 KB)\n",
      "Non-trainable params: 0 (0.00 Byte)\n",
      "_________________________________________________________________\n"
     ]
    }
   ],
   "source": [
    "\n",
    "# construct the model ----------------------------------------------------------\n",
    "kl.model = Sequential()\n",
    "kl.model.add(kl.Conv1D(20, kernel_size=(4), activation='relu', input_shape=(test_n, 4), padding='same'))\n",
    "#kl.model.add(kl.Dense(100, input_shape=(test_n, 4), activation='relu'))\n",
    "kl.model.add(kl.MaxPooling1D(pool_size=5))\n",
    "kl.model.add(kl.Flatten())\n",
    "#kl.model.add(kl.Dense(50, activation = 'relu'))\n",
    "#kl.model.add(kl.Dense(10, activation = 'relu'))\n",
    "kl.model.add(kl.Dense(1, activation='sigmoid'))\n",
    "# Compile model\n",
    "kl.model.compile(loss='binary_crossentropy', optimizer='adam', metrics=['accuracy'])\n",
    "\n",
    "# compile\n",
    "kl.model.compile(optimizer='adam',\n",
    "              loss='binary_crossentropy',\n",
    "              metrics=['accuracy'])\n",
    "\n",
    "# print model summary\n",
    "kl.model.summary()"
   ]
  },
  {
   "cell_type": "code",
   "execution_count": 14,
   "metadata": {},
   "outputs": [
    {
     "name": "stdout",
     "output_type": "stream",
     "text": [
      "Epoch 1/10\n",
      "22/22 [==============================] - 1s 7ms/step - loss: 0.7089 - accuracy: 0.5343 - val_loss: 0.6784 - val_accuracy: 0.5700\n",
      "Epoch 2/10\n",
      "22/22 [==============================] - 0s 3ms/step - loss: 0.6637 - accuracy: 0.6100 - val_loss: 0.6476 - val_accuracy: 0.7033\n",
      "Epoch 3/10\n",
      "22/22 [==============================] - 0s 3ms/step - loss: 0.6280 - accuracy: 0.7414 - val_loss: 0.6149 - val_accuracy: 0.7833\n",
      "Epoch 4/10\n",
      "22/22 [==============================] - 0s 3ms/step - loss: 0.5925 - accuracy: 0.8214 - val_loss: 0.5817 - val_accuracy: 0.8233\n",
      "Epoch 5/10\n",
      "22/22 [==============================] - 0s 3ms/step - loss: 0.5551 - accuracy: 0.8814 - val_loss: 0.5452 - val_accuracy: 0.8800\n",
      "Epoch 6/10\n",
      "22/22 [==============================] - 0s 3ms/step - loss: 0.5172 - accuracy: 0.9100 - val_loss: 0.5072 - val_accuracy: 0.8967\n",
      "Epoch 7/10\n",
      "22/22 [==============================] - 0s 3ms/step - loss: 0.4765 - accuracy: 0.9314 - val_loss: 0.4681 - val_accuracy: 0.9133\n",
      "Epoch 8/10\n",
      "22/22 [==============================] - 0s 3ms/step - loss: 0.4364 - accuracy: 0.9414 - val_loss: 0.4278 - val_accuracy: 0.9467\n",
      "Epoch 9/10\n",
      "22/22 [==============================] - 0s 3ms/step - loss: 0.3979 - accuracy: 0.9500 - val_loss: 0.3877 - val_accuracy: 0.9600\n",
      "Epoch 10/10\n",
      "22/22 [==============================] - 0s 3ms/step - loss: 0.3576 - accuracy: 0.9700 - val_loss: 0.3502 - val_accuracy: 0.9633\n"
     ]
    },
    {
     "data": {
      "text/plain": [
       "<keras.src.callbacks.History at 0x71a7ad570610>"
      ]
     },
     "execution_count": 14,
     "metadata": {},
     "output_type": "execute_result"
    }
   ],
   "source": [
    "\n",
    "# Train ------------------------------------------------------------------------\n",
    "kl.model.fit(X_train, y_train,\n",
    "          verbose=1,\n",
    "             epochs = 10, \n",
    "          validation_data=(X_test, y_test))"
   ]
  },
  {
   "cell_type": "code",
   "execution_count": null,
   "metadata": {},
   "outputs": [],
   "source": []
  },
  {
   "cell_type": "code",
   "execution_count": null,
   "metadata": {},
   "outputs": [],
   "source": []
  }
 ],
 "metadata": {
  "kernelspec": {
   "display_name": "Python 3 (ipykernel)",
   "language": "python",
   "name": "python3"
  },
  "language_info": {
   "codemirror_mode": {
    "name": "ipython",
    "version": 3
   },
   "file_extension": ".py",
   "mimetype": "text/x-python",
   "name": "python",
   "nbconvert_exporter": "python",
   "pygments_lexer": "ipython3",
   "version": "3.10.13"
  }
 },
 "nbformat": 4,
 "nbformat_minor": 2
}
