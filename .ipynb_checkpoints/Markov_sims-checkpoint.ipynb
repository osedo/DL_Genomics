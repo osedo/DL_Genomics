{
 "cells": [
  {
   "cell_type": "code",
   "execution_count": 7,
   "metadata": {},
   "outputs": [
    {
     "name": "stdout",
     "output_type": "stream",
     "text": [
      "The line_profiler extension is already loaded. To reload it, use:\n",
      "  %reload_ext line_profiler\n"
     ]
    }
   ],
   "source": [
    "%reset -f\n",
    "import numpy as np\n",
    "#import random as rm\n",
    "import timeit\n",
    "import itertools\n",
    "%load_ext line_profiler\n",
    "from SequenceSim import experiments_markov_binary"
   ]
  },
  {
   "cell_type": "code",
   "execution_count": 8,
   "metadata": {},
   "outputs": [],
   "source": [
    "# does it work for a second order?\n",
    "# simulate some probabilities\n",
    "\n",
    "test_n = 50\n",
    "test_order = 1\n",
    "\n",
    "\n",
    "nucleotides = 'ATGC'\n",
    "\n",
    "# List with values that are transitioned to \n",
    "test_transition_states = [\"A\", \"T\", \"G\", \"C\"]\n",
    "\n",
    "order_nucleotides = [''.join(p) for p in itertools.product(nucleotides, repeat = test_order)]\n",
    "\n",
    "prob = np.repeat(1/len(order_nucleotides), len(order_nucleotides))\n",
    "test_init_freq = dict(zip(order_nucleotides, prob))\n",
    "\n",
    "prob = [list(np.repeat(1/len(nucleotides), len(nucleotides))) for i in range(len(order_nucleotides))]\n",
    "test_transition_dic = dict(zip(order_nucleotides, prob))\n",
    "\n",
    "test_seq_parameters = {'init_freq': test_init_freq,\\\n",
    "                       'transition_dic': test_transition_dic,\\\n",
    "                       'transition_states': test_transition_states,\\\n",
    "                       'n': test_n,\\\n",
    "                       'order': test_order}\n",
    "\n",
    "\n",
    "#timeit.timeit('markov_simulations(test_seq_parameters, 10000)', globals = globals(), number = 1)\n",
    "#size = 100\n",
    "#X = markov_simulations(test_seq_parameters, size)\n",
    "#y = np.random.choice(a = [1, 0], p = [0.5, 0.5], size = size).reshape(size, 1)\n",
    "\n",
    "X, y = experiments_markov_binary(test_seq_parameters, test_seq_parameters, 500, 500)\n",
    "\n",
    "# Import train_test_split function\n",
    "from sklearn.model_selection import train_test_split\n",
    "\n",
    "# Split dataset into training set and test set\n",
    "X_train, X_test, y_train, y_test = train_test_split(X, y, test_size=0.3,random_state=42)\n",
    "\n",
    "#print(np.array(X))"
   ]
  },
  {
   "cell_type": "code",
   "execution_count": 9,
   "metadata": {},
   "outputs": [],
   "source": [
    "import keras\n",
    "from keras.models import Sequential\n",
    "from keras.layers import Dense, Flatten\n",
    "from keras.layers import Conv1D, MaxPooling1D"
   ]
  },
  {
   "cell_type": "code",
   "execution_count": 10,
   "metadata": {},
   "outputs": [
    {
     "name": "stdout",
     "output_type": "stream",
     "text": [
      "Model: \"sequential_1\"\n",
      "_________________________________________________________________\n",
      " Layer (type)                Output Shape              Param #   \n",
      "=================================================================\n",
      " dense_2 (Dense)             (None, 50, 20)            100       \n",
      "                                                                 \n",
      " dense_3 (Dense)             (None, 50, 1)             21        \n",
      "                                                                 \n",
      "=================================================================\n",
      "Total params: 121 (484.00 Byte)\n",
      "Trainable params: 121 (484.00 Byte)\n",
      "Non-trainable params: 0 (0.00 Byte)\n",
      "_________________________________________________________________\n"
     ]
    }
   ],
   "source": [
    "# global options\n",
    "num_classes = 2\n",
    "\n",
    "# network architecture options\n",
    "conv1_hidden_units = 10\n",
    "conv1_filter_size = 5\n",
    "maxpool1_width = 5\n",
    "\n",
    "# construct the model ----------------------------------------------------------\n",
    "model = Sequential()\n",
    "model.add(Dense(20, input_shape=(50, 4), activation='relu'))\n",
    "model.add(Dense(1, activation='sigmoid'))\n",
    "# Compile model\n",
    "model.compile(loss='binary_crossentropy', optimizer='adam', metrics=['accuracy'])\n",
    "\n",
    "# compile\n",
    "model.compile(optimizer='adam',\n",
    "              loss='binary_crossentropy',\n",
    "              metrics=['accuracy'])\n",
    "\n",
    "# print model summary\n",
    "model.summary()"
   ]
  },
  {
   "cell_type": "code",
   "execution_count": 11,
   "metadata": {},
   "outputs": [
    {
     "name": "stdout",
     "output_type": "stream",
     "text": [
      "22/22 [==============================] - 1s 7ms/step - loss: 0.7042 - accuracy: 0.5000 - val_loss: 0.7010 - val_accuracy: 0.4977\n"
     ]
    },
    {
     "data": {
      "text/plain": [
       "<keras.src.callbacks.History at 0x7c314a4bb160>"
      ]
     },
     "execution_count": 11,
     "metadata": {},
     "output_type": "execute_result"
    }
   ],
   "source": [
    "\n",
    "# Train ------------------------------------------------------------------------\n",
    "model.fit(X_train, y_train,\n",
    "          verbose=1,\n",
    "          validation_data=(X_test, y_test))"
   ]
  },
  {
   "cell_type": "code",
   "execution_count": null,
   "metadata": {},
   "outputs": [],
   "source": []
  },
  {
   "cell_type": "code",
   "execution_count": null,
   "metadata": {},
   "outputs": [],
   "source": []
  }
 ],
 "metadata": {
  "kernelspec": {
   "display_name": "Python 3 (ipykernel)",
   "language": "python",
   "name": "python3"
  },
  "language_info": {
   "codemirror_mode": {
    "name": "ipython",
    "version": 3
   },
   "file_extension": ".py",
   "mimetype": "text/x-python",
   "name": "python",
   "nbconvert_exporter": "python",
   "pygments_lexer": "ipython3",
   "version": "3.10.13"
  }
 },
 "nbformat": 4,
 "nbformat_minor": 2
}
